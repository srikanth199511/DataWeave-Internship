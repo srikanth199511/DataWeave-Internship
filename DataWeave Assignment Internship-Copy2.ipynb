{
 "cells": [
  {
   "cell_type": "markdown",
   "metadata": {},
   "source": [
    "\n",
    "\n",
    "### Loading the data.\n",
    "\n",
    "The data is in json format,so the first step inolves in converting the .json to pandas dataframe.\n"
   ]
  },
  {
   "cell_type": "code",
   "execution_count": 111,
   "metadata": {},
   "outputs": [
    {
     "data": {
      "text/plain": [
       "(141699, 9)"
      ]
     },
     "execution_count": 111,
     "metadata": {},
     "output_type": "execute_result"
    }
   ],
   "source": [
    "import numpy as np\n",
    "import pandas as pd\n",
    "import json\n",
    "import gzip\n",
    "\n",
    "#Converting into panda's dataframe\n",
    "yesterday=pd.read_json('C:/Users/Srikanth/Desktop/DatraWeave/yesterday.json.gz_out',lines='true')\n",
    "yesterday.shape   # It can be observed that there are almost 1.42 lakhs rows(records)"
   ]
  },
  {
   "cell_type": "code",
   "execution_count": 112,
   "metadata": {},
   "outputs": [
    {
     "data": {
      "text/html": [
       "<div>\n",
       "<style scoped>\n",
       "    .dataframe tbody tr th:only-of-type {\n",
       "        vertical-align: middle;\n",
       "    }\n",
       "\n",
       "    .dataframe tbody tr th {\n",
       "        vertical-align: top;\n",
       "    }\n",
       "\n",
       "    .dataframe thead th {\n",
       "        text-align: right;\n",
       "    }\n",
       "</style>\n",
       "<table border=\"1\" class=\"dataframe\">\n",
       "  <thead>\n",
       "    <tr style=\"text-align: right;\">\n",
       "      <th></th>\n",
       "      <th>available_price</th>\n",
       "      <th>category</th>\n",
       "      <th>crawl_date</th>\n",
       "      <th>http_status</th>\n",
       "      <th>mrp</th>\n",
       "      <th>pack_size</th>\n",
       "      <th>subcategory</th>\n",
       "      <th>title</th>\n",
       "      <th>urlh</th>\n",
       "      <th>Id</th>\n",
       "    </tr>\n",
       "  </thead>\n",
       "  <tbody>\n",
       "    <tr>\n",
       "      <th>0</th>\n",
       "      <td>5.99</td>\n",
       "      <td>Household</td>\n",
       "      <td>20180726</td>\n",
       "      <td>200</td>\n",
       "      <td>0.0</td>\n",
       "      <td>30 ct</td>\n",
       "      <td>Trash Bags &amp; Liners</td>\n",
       "      <td>Seventh Generation 13 Gallon Extra Strong Flap...</td>\n",
       "      <td>1ef0f41ebcee030a35440405f2f8b0165c719c89</td>\n",
       "      <td>0</td>\n",
       "    </tr>\n",
       "    <tr>\n",
       "      <th>1</th>\n",
       "      <td>5.49</td>\n",
       "      <td>Household</td>\n",
       "      <td>20180726</td>\n",
       "      <td>200</td>\n",
       "      <td>0.0</td>\n",
       "      <td>25 ct</td>\n",
       "      <td>Trash Bags &amp; Liners</td>\n",
       "      <td>BioBag Food Scrap Bags Small 3 Gallon - 25 CT ...</td>\n",
       "      <td>c566570abdbe95b5e6a78eb8b3b2424108bf36a2</td>\n",
       "      <td>1</td>\n",
       "    </tr>\n",
       "    <tr>\n",
       "      <th>2</th>\n",
       "      <td>5.69</td>\n",
       "      <td>Household</td>\n",
       "      <td>20180726</td>\n",
       "      <td>200</td>\n",
       "      <td>0.0</td>\n",
       "      <td>30.0 ct</td>\n",
       "      <td>Trash Bags &amp; Liners</td>\n",
       "      <td>If You Care Certified Compostable Food Waste B...</td>\n",
       "      <td>3b22b28b351dec75664b17fcf586023ddc21704c</td>\n",
       "      <td>2</td>\n",
       "    </tr>\n",
       "    <tr>\n",
       "      <th>3</th>\n",
       "      <td>5.99</td>\n",
       "      <td>Household</td>\n",
       "      <td>20180726</td>\n",
       "      <td>200</td>\n",
       "      <td>0.0</td>\n",
       "      <td>12 ct</td>\n",
       "      <td>Trash Bags &amp; Liners</td>\n",
       "      <td>BioBag Food Scrap Bags Tall Kitchen 13 Gallon ...</td>\n",
       "      <td>7ff787f49e137237054f95e7cb5b0f8611e7f6fb</td>\n",
       "      <td>3</td>\n",
       "    </tr>\n",
       "    <tr>\n",
       "      <th>4</th>\n",
       "      <td>5.99</td>\n",
       "      <td>Household</td>\n",
       "      <td>20180726</td>\n",
       "      <td>200</td>\n",
       "      <td>0.0</td>\n",
       "      <td>20 ct</td>\n",
       "      <td>Trash Bags &amp; Liners</td>\n",
       "      <td>Seventh Generation 13 Gal with Drawstring Clos...</td>\n",
       "      <td>a7ad16e71257855c033aad46eb5082a2153b97c6</td>\n",
       "      <td>4</td>\n",
       "    </tr>\n",
       "  </tbody>\n",
       "</table>\n",
       "</div>"
      ],
      "text/plain": [
       "   available_price   category  crawl_date  http_status  mrp pack_size  \\\n",
       "0             5.99  Household    20180726          200  0.0     30 ct   \n",
       "1             5.49  Household    20180726          200  0.0     25 ct   \n",
       "2             5.69  Household    20180726          200  0.0   30.0 ct   \n",
       "3             5.99  Household    20180726          200  0.0     12 ct   \n",
       "4             5.99  Household    20180726          200  0.0     20 ct   \n",
       "\n",
       "           subcategory                                              title  \\\n",
       "0  Trash Bags & Liners  Seventh Generation 13 Gallon Extra Strong Flap...   \n",
       "1  Trash Bags & Liners  BioBag Food Scrap Bags Small 3 Gallon - 25 CT ...   \n",
       "2  Trash Bags & Liners  If You Care Certified Compostable Food Waste B...   \n",
       "3  Trash Bags & Liners  BioBag Food Scrap Bags Tall Kitchen 13 Gallon ...   \n",
       "4  Trash Bags & Liners  Seventh Generation 13 Gal with Drawstring Clos...   \n",
       "\n",
       "                                       urlh  Id  \n",
       "0  1ef0f41ebcee030a35440405f2f8b0165c719c89   0  \n",
       "1  c566570abdbe95b5e6a78eb8b3b2424108bf36a2   1  \n",
       "2  3b22b28b351dec75664b17fcf586023ddc21704c   2  \n",
       "3  7ff787f49e137237054f95e7cb5b0f8611e7f6fb   3  \n",
       "4  a7ad16e71257855c033aad46eb5082a2153b97c6   4  "
      ]
     },
     "execution_count": 112,
     "metadata": {},
     "output_type": "execute_result"
    }
   ],
   "source": [
    "Id=range(141699)\n",
    "yesterday['Id']=Id\n",
    "yesterday.head()\n",
    "# Adding an additional column \"Id\" for my convenience."
   ]
  },
  {
   "cell_type": "code",
   "execution_count": 113,
   "metadata": {},
   "outputs": [
    {
     "data": {
      "text/plain": [
       "(142291, 9)"
      ]
     },
     "execution_count": 113,
     "metadata": {},
     "output_type": "execute_result"
    }
   ],
   "source": [
    "today=pd.read_json('C:/Users/Srikanth/Desktop/DatraWeave/today.json.gz_out',lines='true')\n",
    "today.shape # Alomst 1.423 lakhs records, a bit more than yesterday."
   ]
  },
  {
   "cell_type": "code",
   "execution_count": 114,
   "metadata": {},
   "outputs": [
    {
     "data": {
      "text/html": [
       "<div>\n",
       "<style scoped>\n",
       "    .dataframe tbody tr th:only-of-type {\n",
       "        vertical-align: middle;\n",
       "    }\n",
       "\n",
       "    .dataframe tbody tr th {\n",
       "        vertical-align: top;\n",
       "    }\n",
       "\n",
       "    .dataframe thead th {\n",
       "        text-align: right;\n",
       "    }\n",
       "</style>\n",
       "<table border=\"1\" class=\"dataframe\">\n",
       "  <thead>\n",
       "    <tr style=\"text-align: right;\">\n",
       "      <th></th>\n",
       "      <th>available_price</th>\n",
       "      <th>category</th>\n",
       "      <th>crawl_date</th>\n",
       "      <th>http_status</th>\n",
       "      <th>mrp</th>\n",
       "      <th>pack_size</th>\n",
       "      <th>subcategory</th>\n",
       "      <th>title</th>\n",
       "      <th>urlh</th>\n",
       "      <th>Id</th>\n",
       "    </tr>\n",
       "  </thead>\n",
       "  <tbody>\n",
       "    <tr>\n",
       "      <th>0</th>\n",
       "      <td>5.99</td>\n",
       "      <td>Household</td>\n",
       "      <td>20180727</td>\n",
       "      <td>200</td>\n",
       "      <td>0.0</td>\n",
       "      <td>30 ct</td>\n",
       "      <td>Trash Bags &amp; Liners</td>\n",
       "      <td>Seventh Generation 13 Gallon Extra Strong Flap...</td>\n",
       "      <td>1ef0f41ebcee030a35440405f2f8b0165c719c89</td>\n",
       "      <td>0</td>\n",
       "    </tr>\n",
       "    <tr>\n",
       "      <th>1</th>\n",
       "      <td>5.49</td>\n",
       "      <td>Household</td>\n",
       "      <td>20180727</td>\n",
       "      <td>200</td>\n",
       "      <td>0.0</td>\n",
       "      <td>25 ct</td>\n",
       "      <td>Trash Bags &amp; Liners</td>\n",
       "      <td>BioBag Food Scrap Bags Small 3 Gallon - 25 CT ...</td>\n",
       "      <td>c566570abdbe95b5e6a78eb8b3b2424108bf36a2</td>\n",
       "      <td>1</td>\n",
       "    </tr>\n",
       "    <tr>\n",
       "      <th>2</th>\n",
       "      <td>5.69</td>\n",
       "      <td>Household</td>\n",
       "      <td>20180727</td>\n",
       "      <td>200</td>\n",
       "      <td>0.0</td>\n",
       "      <td>30.0 ct</td>\n",
       "      <td>Trash Bags &amp; Liners</td>\n",
       "      <td>If You Care Certified Compostable Food Waste B...</td>\n",
       "      <td>3b22b28b351dec75664b17fcf586023ddc21704c</td>\n",
       "      <td>2</td>\n",
       "    </tr>\n",
       "    <tr>\n",
       "      <th>3</th>\n",
       "      <td>5.99</td>\n",
       "      <td>Household</td>\n",
       "      <td>20180727</td>\n",
       "      <td>200</td>\n",
       "      <td>0.0</td>\n",
       "      <td>12 ct</td>\n",
       "      <td>Trash Bags &amp; Liners</td>\n",
       "      <td>BioBag Food Scrap Bags Tall Kitchen 13 Gallon ...</td>\n",
       "      <td>7ff787f49e137237054f95e7cb5b0f8611e7f6fb</td>\n",
       "      <td>3</td>\n",
       "    </tr>\n",
       "    <tr>\n",
       "      <th>4</th>\n",
       "      <td>5.99</td>\n",
       "      <td>Household</td>\n",
       "      <td>20180727</td>\n",
       "      <td>200</td>\n",
       "      <td>0.0</td>\n",
       "      <td>20 ct</td>\n",
       "      <td>Trash Bags &amp; Liners</td>\n",
       "      <td>Seventh Generation 13 Gal with Drawstring Clos...</td>\n",
       "      <td>a7ad16e71257855c033aad46eb5082a2153b97c6</td>\n",
       "      <td>4</td>\n",
       "    </tr>\n",
       "  </tbody>\n",
       "</table>\n",
       "</div>"
      ],
      "text/plain": [
       "   available_price   category  crawl_date  http_status  mrp pack_size  \\\n",
       "0             5.99  Household    20180727          200  0.0     30 ct   \n",
       "1             5.49  Household    20180727          200  0.0     25 ct   \n",
       "2             5.69  Household    20180727          200  0.0   30.0 ct   \n",
       "3             5.99  Household    20180727          200  0.0     12 ct   \n",
       "4             5.99  Household    20180727          200  0.0     20 ct   \n",
       "\n",
       "           subcategory                                              title  \\\n",
       "0  Trash Bags & Liners  Seventh Generation 13 Gallon Extra Strong Flap...   \n",
       "1  Trash Bags & Liners  BioBag Food Scrap Bags Small 3 Gallon - 25 CT ...   \n",
       "2  Trash Bags & Liners  If You Care Certified Compostable Food Waste B...   \n",
       "3  Trash Bags & Liners  BioBag Food Scrap Bags Tall Kitchen 13 Gallon ...   \n",
       "4  Trash Bags & Liners  Seventh Generation 13 Gal with Drawstring Clos...   \n",
       "\n",
       "                                       urlh  Id  \n",
       "0  1ef0f41ebcee030a35440405f2f8b0165c719c89   0  \n",
       "1  c566570abdbe95b5e6a78eb8b3b2424108bf36a2   1  \n",
       "2  3b22b28b351dec75664b17fcf586023ddc21704c   2  \n",
       "3  7ff787f49e137237054f95e7cb5b0f8611e7f6fb   3  \n",
       "4  a7ad16e71257855c033aad46eb5082a2153b97c6   4  "
      ]
     },
     "execution_count": 114,
     "metadata": {},
     "output_type": "execute_result"
    }
   ],
   "source": [
    "Id=range(142291)\n",
    "today['Id']=Id\n",
    "today.head()"
   ]
  },
  {
   "cell_type": "code",
   "execution_count": 115,
   "metadata": {},
   "outputs": [],
   "source": [
    "a=today\n",
    "b=yesterday\n",
    "#Assigning the original data(yesterday and today) to \"a\" and \"b\" since it is not wise to work on original data."
   ]
  },
  {
   "cell_type": "markdown",
   "metadata": {},
   "source": [
    "### 1.Number of Urls which are overlapping.\n",
    "By the term overlapping I assume that, the no. of rows with urls which are common in both dataframes."
   ]
  },
  {
   "cell_type": "code",
   "execution_count": 6,
   "metadata": {},
   "outputs": [
    {
     "data": {
      "text/plain": [
       "['323a8894106bad1f43402d0f6e0aa5feb49635d4',\n",
       " '503020b52b0ffa31e593a127e359617392841b95',\n",
       " '8a256673e44ebdac0d6c6b5d702118f0313ce91c',\n",
       " 'df6a05434334b6017bca2ba14ed96e2af1b71e35']"
      ]
     },
     "execution_count": 6,
     "metadata": {},
     "output_type": "execute_result"
    }
   ],
   "source": [
    "intersection=list(set(a['urlh']).intersection(set(b['urlh']))) # All the urlhs in both today and yesterday's data.\n",
    "#Here i did set intersection and converted it into list and found the length.\n",
    "intersection[0:4]\n",
    "#These are the urlhs which are present in both dataframes."
   ]
  },
  {
   "cell_type": "code",
   "execution_count": 7,
   "metadata": {},
   "outputs": [
    {
     "data": {
      "text/plain": [
       "129673"
      ]
     },
     "execution_count": 7,
     "metadata": {},
     "output_type": "execute_result"
    }
   ],
   "source": [
    "len(intersection)\n",
    "# 129673 records have overlapping"
   ]
  },
  {
   "cell_type": "code",
   "execution_count": 8,
   "metadata": {},
   "outputs": [],
   "source": [
    "overlap_today=[dict(a.loc[i]) for i in range(len(a)) if a['urlh'][i] in intersection]\n",
    "#Here we find the records which are having urlhs in intersection."
   ]
  },
  {
   "cell_type": "code",
   "execution_count": 9,
   "metadata": {},
   "outputs": [
    {
     "data": {
      "text/plain": [
       "140414"
      ]
     },
     "execution_count": 9,
     "metadata": {},
     "output_type": "execute_result"
    }
   ],
   "source": [
    "len(overlap_today)\n",
    "#Out of 142291 records in today, 140141 records have urlhs which are present in yesterday."
   ]
  },
  {
   "cell_type": "code",
   "execution_count": 10,
   "metadata": {},
   "outputs": [
    {
     "name": "stderr",
     "output_type": "stream",
     "text": [
      "C:\\ProgramData\\Anaconda3\\lib\\site-packages\\ipykernel_launcher.py:1: DeprecationWarning: \n",
      ".ix is deprecated. Please use\n",
      ".loc for label based indexing or\n",
      ".iloc for positional indexing\n",
      "\n",
      "See the documentation here:\n",
      "http://pandas.pydata.org/pandas-docs/stable/indexing.html#ix-indexer-is-deprecated\n",
      "  \"\"\"Entry point for launching an IPython kernel.\n"
     ]
    }
   ],
   "source": [
    "overlap_yesterday=[dict(b.ix[i]) for i in range(len(b)) if b['urlh'][i] in intersection]\n",
    "#Out of 141699, 140413 records have urlhs intersection"
   ]
  },
  {
   "cell_type": "code",
   "execution_count": 11,
   "metadata": {},
   "outputs": [
    {
     "data": {
      "text/plain": [
       "140413"
      ]
     },
     "execution_count": 11,
     "metadata": {},
     "output_type": "execute_result"
    }
   ],
   "source": [
    "len(overlap_yesterday)"
   ]
  },
  {
   "cell_type": "code",
   "execution_count": 12,
   "metadata": {},
   "outputs": [
    {
     "data": {
      "text/plain": [
       "{'available_price': 5.49,\n",
       " 'category': 'Household',\n",
       " 'crawl_date': 20180726,\n",
       " 'http_status': 200,\n",
       " 'mrp': 0.0,\n",
       " 'pack_size': '25 ct',\n",
       " 'subcategory': 'Trash Bags & Liners',\n",
       " 'title': 'BioBag Food Scrap Bags Small 3 Gallon - 25 CT - 25 ct',\n",
       " 'urlh': 'c566570abdbe95b5e6a78eb8b3b2424108bf36a2',\n",
       " 'Id': 1}"
      ]
     },
     "execution_count": 12,
     "metadata": {},
     "output_type": "execute_result"
    }
   ],
   "source": [
    "overlap_yesterday[1]\n",
    "#It is a list of dicts, so 1st index of this list is same as the first row of dataframe."
   ]
  },
  {
   "cell_type": "code",
   "execution_count": 13,
   "metadata": {},
   "outputs": [],
   "source": [
    "overlap_today1=pd.DataFrame.from_records(overlap_today)\n",
    "#Here i converted the list of dicts to dataframe for easy understanding."
   ]
  },
  {
   "cell_type": "markdown",
   "metadata": {},
   "source": [
    "### 2. Calculate price difference."
   ]
  },
  {
   "cell_type": "code",
   "execution_count": 398,
   "metadata": {},
   "outputs": [],
   "source": [
    "yesterday_dup=[]\n",
    "for i in range(len(overlap_yesterday)):\n",
    "    if overlap_yesterday[i]['urlh']==overlap_yesterday[i]['urlh'] and overlap_yesterday[i]['http_status']==200:\n",
    "        yesterday_dup.append(overlap_yesterday[i])\n",
    "# In 3rd line, all the urls with http=200 are taken and appended in the list named yesterday_dup. \n",
    "#This list will contain duplicate urls. So in next step we will drop duplicates."
   ]
  },
  {
   "cell_type": "code",
   "execution_count": 399,
   "metadata": {},
   "outputs": [
    {
     "data": {
      "text/plain": [
       "140405"
      ]
     },
     "execution_count": 399,
     "metadata": {},
     "output_type": "execute_result"
    }
   ],
   "source": [
    "len(yesterday_dup)\n",
    "# It can be observed that therse are only 8 duplicate urls in yesterday's which has http-value other than 200.\n",
    "# But point to be kept in mind is that there could be lot of duplicate urls with http value=200."
   ]
  },
  {
   "cell_type": "code",
   "execution_count": 400,
   "metadata": {},
   "outputs": [],
   "source": [
    "overlap_yesterday1=pd.DataFrame.from_records(yesterday_dup)\n",
    "#Here i converted the list of dicts to dataframe for easy understanding."
   ]
  },
  {
   "cell_type": "code",
   "execution_count": 401,
   "metadata": {},
   "outputs": [
    {
     "data": {
      "text/plain": [
       "(129673, 10)"
      ]
     },
     "execution_count": 401,
     "metadata": {},
     "output_type": "execute_result"
    }
   ],
   "source": [
    "overlap_dup1=overlap_yesterday1.drop_duplicates(subset={\"urlh\"}, keep='first', inplace=False)\n",
    "overlap_dup1.shape\n",
    "#here it can be observed that after dropping duplicate urlhs with http=200, the yesterday's records \n",
    "# have dropped to 129673"
   ]
  },
  {
   "cell_type": "code",
   "execution_count": 402,
   "metadata": {},
   "outputs": [],
   "source": [
    "today_dup=[]\n",
    "for i in range(len(overlap_today)):\n",
    "    if overlap_today[i]['urlh']==overlap_today[i]['urlh'] and overlap_today[i]['http_status']==200:\n",
    "        today_dup.append(overlap_today[i])"
   ]
  },
  {
   "cell_type": "code",
   "execution_count": 403,
   "metadata": {},
   "outputs": [
    {
     "data": {
      "text/plain": [
       "140407"
      ]
     },
     "execution_count": 403,
     "metadata": {},
     "output_type": "execute_result"
    }
   ],
   "source": [
    "len(today_dup)"
   ]
  },
  {
   "cell_type": "code",
   "execution_count": 404,
   "metadata": {},
   "outputs": [],
   "source": [
    "overlap_today1=pd.DataFrame.from_records(today_dup)\n",
    "#Here i converted the list of dicts to dataframe for easy understanding."
   ]
  },
  {
   "cell_type": "code",
   "execution_count": 405,
   "metadata": {},
   "outputs": [
    {
     "data": {
      "text/plain": [
       "(129673, 10)"
      ]
     },
     "execution_count": 405,
     "metadata": {},
     "output_type": "execute_result"
    }
   ],
   "source": [
    "overlap_dup2=overlap_today1.drop_duplicates(subset={\"urlh\"}, keep='first', inplace=False)\n",
    "overlap_dup2.shape\n",
    "#here it can be observed that after dropping duplicate urlhs with http=200, the yesterday's records \n",
    "# have dropped to 129673"
   ]
  },
  {
   "cell_type": "code",
   "execution_count": 406,
   "metadata": {},
   "outputs": [],
   "source": [
    "price_difference=overlap_dup2['available_price']-overlap_dup1['available_price']"
   ]
  },
  {
   "cell_type": "code",
   "execution_count": 407,
   "metadata": {},
   "outputs": [
    {
     "data": {
      "text/plain": [
       "140404      NaN\n",
       "140403      NaN\n",
       "140402     2.01\n",
       "140401     0.00\n",
       "140400    20.99\n",
       "140399     0.00\n",
       "140398   -30.00\n",
       "140397    -1.00\n",
       "140396    -1.00\n",
       "140395     2.00\n",
       "140394     1.00\n",
       "140393    -2.00\n",
       "140392     6.00\n",
       "140391     2.00\n",
       "140390     4.00\n",
       "140389     5.20\n",
       "140388     6.00\n",
       "140387    -6.20\n",
       "140386   -10.00\n",
       "140385     7.50\n",
       "140384     2.50\n",
       "140383    -6.50\n",
       "140382     0.50\n",
       "140381     3.00\n",
       "140380    -1.00\n",
       "140379    -0.50\n",
       "140378     5.00\n",
       "140377     0.51\n",
       "140376   -13.00\n",
       "140375     1.99\n",
       "          ...  \n",
       "29         0.00\n",
       "28         0.00\n",
       "27         0.00\n",
       "26         0.00\n",
       "25         0.00\n",
       "24         0.00\n",
       "23         0.00\n",
       "22         0.00\n",
       "21         0.00\n",
       "20         0.00\n",
       "19         0.00\n",
       "18         0.00\n",
       "17         0.00\n",
       "16         0.00\n",
       "15         0.00\n",
       "14         0.00\n",
       "13         0.00\n",
       "12         0.00\n",
       "11         0.00\n",
       "10         0.00\n",
       "9          0.00\n",
       "8          0.00\n",
       "7          0.00\n",
       "6          0.00\n",
       "5          0.00\n",
       "4          0.00\n",
       "3          0.00\n",
       "2          0.00\n",
       "1          0.00\n",
       "0          0.00\n",
       "Name: available_price, Length: 132698, dtype: float64"
      ]
     },
     "execution_count": 407,
     "metadata": {},
     "output_type": "execute_result"
    }
   ],
   "source": [
    "price_difference[::-1]\n",
    "#Here i printed the list in reverse order since price difference is observed in last records not in the staring records."
   ]
  },
  {
   "cell_type": "code",
   "execution_count": 241,
   "metadata": {},
   "outputs": [],
   "source": [
    "def diff(s):\n",
    "\"\"\"Here we are gettin the index where the available_price is not same\"\"\"\n",
    "    index=[]\n",
    "    for i in s.index:\n",
    "        if s[i]!=0:\n",
    "            index.append(i)\n",
    "    return(index)\n",
    "aa=diff(price_difference)\n",
    "#Here we are getting the indexes where the available_price is not zero(prices are different)"
   ]
  },
  {
   "cell_type": "code",
   "execution_count": 244,
   "metadata": {},
   "outputs": [
    {
     "data": {
      "text/plain": [
       "82918"
      ]
     },
     "execution_count": 244,
     "metadata": {},
     "output_type": "execute_result"
    }
   ],
   "source": [
    "len(aa)"
   ]
  },
  {
   "cell_type": "markdown",
   "metadata": {},
   "source": [
    "### 3. Unique Categories in both files."
   ]
  },
  {
   "cell_type": "code",
   "execution_count": 27,
   "metadata": {},
   "outputs": [
    {
     "data": {
      "text/plain": [
       "50"
      ]
     },
     "execution_count": 27,
     "metadata": {},
     "output_type": "execute_result"
    }
   ],
   "source": [
    "count1=[]\n",
    "unique1=today['category'].unique()\n",
    "for i in unique1:\n",
    "    count1.append(i)\n",
    "len(count1)\n",
    "#There are 50 unique categories in today dataframe"
   ]
  },
  {
   "cell_type": "code",
   "execution_count": 28,
   "metadata": {},
   "outputs": [],
   "source": [
    "count_tday_unique=today.category.unique()\n",
    "\n",
    "#These are the unique values, if we count_tday_unique.size...we can get the size too but still I wrote/\n",
    "#the code to get the unique values in the above cell.\n",
    "\n",
    "count_tday_unique=list(count_tday_unique)# Conver the array to list.\n"
   ]
  },
  {
   "cell_type": "code",
   "execution_count": 410,
   "metadata": {},
   "outputs": [
    {
     "data": {
      "text/plain": [
       "50"
      ]
     },
     "execution_count": 410,
     "metadata": {},
     "output_type": "execute_result"
    }
   ],
   "source": [
    "count2=[]\n",
    "unique2=yesterday['category'].unique()\n",
    "for i in unique2:\n",
    "    count2.append(i)\n",
    "len(count2)\n",
    "#There are 50 unique categories in today dataframe"
   ]
  },
  {
   "cell_type": "markdown",
   "metadata": {},
   "source": [
    "### 4. List of Categories not overlapping"
   ]
  },
  {
   "cell_type": "code",
   "execution_count": 411,
   "metadata": {},
   "outputs": [
    {
     "name": "stdout",
     "output_type": "stream",
     "text": [
      "Wall time: 2.68 s\n"
     ]
    }
   ],
   "source": [
    "%%time\n",
    "not_overlap=[]\n",
    "i=0\n",
    "while i< len(b): #Here we chose lenght of b cuz records in yesterday is lesser than today.\n",
    "    if a['category'][i] != b['category'][i]:\n",
    "        not_overlap.append(a['category'][i])\n",
    "    i+=1"
   ]
  },
  {
   "cell_type": "code",
   "execution_count": 412,
   "metadata": {},
   "outputs": [
    {
     "data": {
      "text/plain": [
       "19577"
      ]
     },
     "execution_count": 412,
     "metadata": {},
     "output_type": "execute_result"
    }
   ],
   "source": [
    "len(not_overlap)"
   ]
  },
  {
   "cell_type": "markdown",
   "metadata": {},
   "source": [
    "### 5. Generate the stats with count for all taxonomies."
   ]
  },
  {
   "cell_type": "code",
   "execution_count": 371,
   "metadata": {},
   "outputs": [],
   "source": [
    "#group = a.groupby('category')\n",
    "\n",
    "#df2 = group.apply(lambda x: x['subcategory'])\n",
    "#Here we will get a dataframe where we will get All the 50 Categories and their corresponding Subcategories."
   ]
  },
  {
   "cell_type": "code",
   "execution_count": 18,
   "metadata": {},
   "outputs": [],
   "source": [
    "#today_tex=[]\n",
    "#for i in count_tday_unique[]:\n",
    "#    if a['category'][i]==i:\n",
    " #       today_tex.append(a['subcategory'][i])"
   ]
  },
  {
   "cell_type": "code",
   "execution_count": 16,
   "metadata": {},
   "outputs": [],
   "source": [
    "df_tax=a[['category', 'subcategory']]"
   ]
  },
  {
   "cell_type": "code",
   "execution_count": 25,
   "metadata": {},
   "outputs": [
    {
     "data": {
      "text/html": [
       "<div>\n",
       "<style scoped>\n",
       "    .dataframe tbody tr th:only-of-type {\n",
       "        vertical-align: middle;\n",
       "    }\n",
       "\n",
       "    .dataframe tbody tr th {\n",
       "        vertical-align: top;\n",
       "    }\n",
       "\n",
       "    .dataframe thead th {\n",
       "        text-align: right;\n",
       "    }\n",
       "</style>\n",
       "<table border=\"1\" class=\"dataframe\">\n",
       "  <thead>\n",
       "    <tr style=\"text-align: right;\">\n",
       "      <th></th>\n",
       "      <th>category</th>\n",
       "      <th>subcategory</th>\n",
       "    </tr>\n",
       "  </thead>\n",
       "  <tbody>\n",
       "    <tr>\n",
       "      <th>0</th>\n",
       "      <td>Household</td>\n",
       "      <td>Trash Bags &amp; Liners</td>\n",
       "    </tr>\n",
       "    <tr>\n",
       "      <th>1</th>\n",
       "      <td>Household</td>\n",
       "      <td>Trash Bags &amp; Liners</td>\n",
       "    </tr>\n",
       "    <tr>\n",
       "      <th>2</th>\n",
       "      <td>Household</td>\n",
       "      <td>Trash Bags &amp; Liners</td>\n",
       "    </tr>\n",
       "    <tr>\n",
       "      <th>3</th>\n",
       "      <td>Household</td>\n",
       "      <td>Trash Bags &amp; Liners</td>\n",
       "    </tr>\n",
       "    <tr>\n",
       "      <th>4</th>\n",
       "      <td>Household</td>\n",
       "      <td>Trash Bags &amp; Liners</td>\n",
       "    </tr>\n",
       "    <tr>\n",
       "      <th>5</th>\n",
       "      <td>Household</td>\n",
       "      <td>Paper Goods</td>\n",
       "    </tr>\n",
       "    <tr>\n",
       "      <th>6</th>\n",
       "      <td>Household</td>\n",
       "      <td>Paper Goods</td>\n",
       "    </tr>\n",
       "    <tr>\n",
       "      <th>7</th>\n",
       "      <td>Household</td>\n",
       "      <td>Paper Goods</td>\n",
       "    </tr>\n",
       "    <tr>\n",
       "      <th>8</th>\n",
       "      <td>Household</td>\n",
       "      <td>Paper Goods</td>\n",
       "    </tr>\n",
       "    <tr>\n",
       "      <th>9</th>\n",
       "      <td>Household</td>\n",
       "      <td>Paper Goods</td>\n",
       "    </tr>\n",
       "  </tbody>\n",
       "</table>\n",
       "</div>"
      ],
      "text/plain": [
       "    category          subcategory\n",
       "0  Household  Trash Bags & Liners\n",
       "1  Household  Trash Bags & Liners\n",
       "2  Household  Trash Bags & Liners\n",
       "3  Household  Trash Bags & Liners\n",
       "4  Household  Trash Bags & Liners\n",
       "5  Household          Paper Goods\n",
       "6  Household          Paper Goods\n",
       "7  Household          Paper Goods\n",
       "8  Household          Paper Goods\n",
       "9  Household          Paper Goods"
      ]
     },
     "execution_count": 25,
     "metadata": {},
     "output_type": "execute_result"
    }
   ],
   "source": [
    "df_tax[:10]"
   ]
  },
  {
   "cell_type": "code",
   "execution_count": 123,
   "metadata": {},
   "outputs": [
    {
     "data": {
      "text/plain": [
       "['Rum', 'Rum', 'Rum', 'Rum', 'Rum', 'Rum']"
      ]
     },
     "execution_count": 123,
     "metadata": {},
     "output_type": "execute_result"
    }
   ],
   "source": [
    "tax_dict={k: v[\"category\"].tolist() for k,v in df_tax.groupby(\"subcategory\")}\n",
    "tax_dict['Silver Rum'][:6]\n",
    "#Here in this cell we get dicts where the unique categories will be the keys \n",
    "#and the corresponding subcategories will be inthe list as values to the key."
   ]
  },
  {
   "cell_type": "code",
   "execution_count": 84,
   "metadata": {},
   "outputs": [
    {
     "name": "stdout",
     "output_type": "stream",
     "text": [
      "Adult Care < Counter({'Personal Care': 67})\n",
      "Aged Rum < Counter({'Rum': 70})\n",
      "Air Fresheners & Candles < Counter({'Household': 809, 'Personal Care': 94})\n",
      "Albarino < Counter({'White Wine': 10})\n",
      "Allergy < Counter({'Allergy & Cold Essentials': 52})\n",
      "Amber/Red Ale < Counter({'Ale Beer': 63})\n",
      "Amber/Red Lager < Counter({'Lager Beer': 18})\n",
      "American All-Malt Lager < Counter({'Lager Beer': 16})\n",
      "American Wild Ale < Counter({'Specialty Style Beer': 8})\n",
      "American-Style Lager < Counter({'Lager Beer': 110})\n",
      "Anejo < Counter({'Tequila': 57})\n",
      "Aperitif < Counter({'Dessert & Fortified Wine': 25})\n",
      "Apple Cider < Counter({'Cider': 118})\n",
      "Armagnac < Counter({'Brandy & Cognac': 7})\n",
      "Aromatherapy < Counter({'Personal Care': 34})\n",
      "Asian Foods < Counter({'International': 945})\n",
      "Baby Accessories < Counter({'Babies': 253, 'Baby & Child': 19})\n",
      "Baby Bath & Body Care < Counter({'Babies': 285, 'Baby & Child': 66})\n",
      "Baby First Aid & Vitamins < Counter({'Babies': 197, 'Baby & Child': 47})\n",
      "Baby Food & Formula < Counter({'Babies': 1294, 'Baby & Child': 25})\n",
      "Bakery & Bread < Counter({'Grocery': 1})\n",
      "Bakery Desserts < Counter({'Bakery': 1048})\n",
      "Baking Ingredients < Counter({'Pantry': 1157})\n",
      "Baking Supplies < Counter({'Dry Goods & Pasta': 1})\n",
      "Baking Supplies & Decor < Counter({'Pantry': 749})\n",
      "Bar Tools < Counter({'Glassware & Accessories': 25})\n",
      "Barbera < Counter({'Red Wine': 18})\n",
      "Bars < Counter({'Grocery': 2})\n",
      "Beauty < Counter({'Personal Care': 5731})\n",
      "Beer Glassware < Counter({'Glassware & Accessories': 6})\n",
      "Beers & Coolers < Counter({'Alcohol': 197})\n",
      "Belgian-Style Ale < Counter({'Ale Beer': 142})\n",
      "Beverages < Counter({'Holiday Favorites': 3})\n",
      "Bitters < Counter({'Mixers, Water & Soda': 8})\n",
      "Blanco/Silver < Counter({'Tequila': 96})\n",
      "Blended Scotch < Counter({'Scotch': 93})\n",
      "Blond Ale < Counter({'Ale Beer': 59})\n",
      "Bock/Doppelbock/Maibock < Counter({'Lager Beer': 12})\n",
      "Body Lotions & Soap < Counter({'Personal Care': 2431})\n",
      "Books & Magazines < Counter({'Household': 1})\n",
      "Bordeaux Blend < Counter({'Red Wine': 192, 'Dessert & Fortified Wine': 32, 'White Wine': 16})\n",
      "Brandy < Counter({'Brandy & Cognac': 57})\n",
      "Bread < Counter({'Bakery': 1194})\n",
      "Breakfast Bakery < Counter({'Bakery': 509})\n",
      "Breakfast Bars & Pastries < Counter({'Breakfast': 393})\n",
      "Brown Ale < Counter({'Ale Beer': 24})\n",
      "Bulk Candies & Chocolates < Counter({'Bulk': 77})\n",
      "Bulk Containers < Counter({'Bulk': 5})\n",
      "Bulk Dried Fruits & Vegetables < Counter({'Bulk': 83})\n",
      "Bulk Flours & Powders < Counter({'Bulk': 139})\n",
      "Bulk Grains, Rice & Dried Beans < Counter({'Bulk': 196})\n",
      "Bulk Grains, Rice & Dried Goods < Counter({'Bulk': 57})\n",
      "Bulk Granola & Cereals < Counter({'Bulk': 30})\n",
      "Bulk Home & Personal Care < Counter({'Bulk': 3})\n",
      "Bulk Nuts & Seeds < Counter({'Bulk': 242})\n",
      "Bulk Pasta < Counter({'Bulk': 11})\n",
      "Bulk Soup Mix < Counter({'Bulk': 10})\n",
      "Bulk Spices & Seasoning < Counter({'Bulk': 5})\n",
      "Bulk Spices & Seasonings < Counter({'Bulk': 133})\n",
      "Bulk Spreads Butter, Honey, Syrup < Counter({'Bulk': 19})\n",
      "Bulk Sugar & Sweeteners < Counter({'Bulk': 14})\n",
      "Bulk Tea & Coffee < Counter({'Bulk': 169})\n",
      "Bulk Trail Mix & Snack Mix < Counter({'Bulk': 61})\n",
      "Buns & Rolls < Counter({'Bakery': 417})\n",
      "Butter < Counter({'Dairy & Eggs': 289})\n",
      "Cabernet Franc < Counter({'Red Wine': 24})\n",
      "Cabernet Sauvignon < Counter({'Red Wine': 657})\n",
      "Cachaca < Counter({'Rum': 7})\n",
      "Calvados < Counter({'Brandy & Cognac': 11})\n",
      "Candles & Kitchenwares < Counter({'Holiday Favorites': 10})\n",
      "Candy & Chocolate < Counter({'Snacks': 3085})\n",
      "Canned & Jarred Vegetables < Counter({'Canned Goods': 950})\n",
      "Canned Fruit & Applesauce < Counter({'Canned Goods': 543})\n",
      "Canned Meals & Beans < Counter({'Canned Goods': 797})\n",
      "Canned Meat & Seafood < Counter({'Canned Goods': 636})\n",
      "Carmenere < Counter({'Red Wine': 11})\n",
      "Cat Food & Care < Counter({'Pets': 1281})\n",
      "Cava < Counter({'Champagne & Sparkling Wine': 38})\n",
      "Cereal < Counter({'Breakfast': 1144})\n",
      "Champagne < Counter({'Champagne & Sparkling Wine': 107})\n",
      "Chardonnay < Counter({'White Wine': 408})\n",
      "Cheese < Counter({'Food': 2})\n",
      "Cheese & Appetizers < Counter({'Holiday Favorites': 11})\n",
      "Chenin Blanc < Counter({'White Wine': 17})\n",
      "Chili Beer < Counter({'Specialty Style Beer': 2})\n",
      "Chips & Pretzels < Counter({'Snacks': 1961})\n",
      "Chips, Puffs & Pretzels < Counter({'Food': 1})\n",
      "Chocolate & Cream Drinks < Counter({'Ready to Drink': 7})\n",
      "Chocolate Wine < Counter({'Dessert & Fortified Wine': 3})\n",
      "Chocolate, Candy & Mints < Counter({'Food': 8})\n",
      "Chocolate; Sweets & Candy < Counter({'Liqueurs/Cordials/Schnapps': 49})\n",
      "Christmas < Counter({'Christmas': 5392})\n",
      "Citrus & Triple Sec < Counter({'Liqueurs/Cordials/Schnapps': 73})\n",
      "Cleaning Products < Counter({'Household': 1542})\n",
      "Cleanses & Detoxes < Counter({'Personal Care': 28})\n",
      "Clothing < Counter({'Personal Care': 34})\n",
      "Club Soda < Counter({'Mixers, Water & Soda': 5})\n",
      "Cocktail Mixes < Counter({'Mixers, Water & Soda': 8, 'Alcohol': 7})\n",
      "Cocktail Rimmers < Counter({'Mixers, Water & Soda': 1})\n",
      "Cocoa & Drink Mixes < Counter({'Beverages': 495})\n",
      "Coconut < Counter({'Liqueurs/Cordials/Schnapps': 4})\n",
      "Coffee < Counter({'Beverages': 2052, 'Liqueurs/Cordials/Schnapps': 32})\n",
      "Cognac < Counter({'Brandy & Cognac': 88})\n",
      "Cold, Flu & Allergy < Counter({'Personal Care': 1218})\n",
      "Condiments < Counter({'Pantry': 1467, 'Food': 1})\n",
      "Cookies & Cakes < Counter({'Snacks': 1659})\n",
      "Corvina < Counter({'Red Wine': 21})\n",
      "Cosmopolitan < Counter({'Ready to Drink': 1})\n",
      "Cough & Cold Medicine < Counter({'Allergy & Cold Essentials': 30})\n",
      "Crackers < Counter({'Snacks': 1320})\n",
      "Cream < Counter({'Dairy & Eggs': 348, 'Liqueurs/Cordials/Schnapps': 64})\n",
      "Cream Ale < Counter({'Specialty Style Beer': 3})\n",
      "Czech & German Pilsner < Counter({'Lager Beer': 79})\n",
      "Daiquiris & Rum Drinks < Counter({'Ready to Drink': 12})\n",
      "Dairy Alternatives < Counter({'Dairy & Eggs': 115})\n",
      "Dark Rum < Counter({'Rum': 16})\n",
      "Deli Meat < Counter({'Deli': 83})\n",
      "Deodorants < Counter({'Personal Care': 882})\n",
      "Desserts & Bakery < Counter({'Holiday Favorites': 6})\n",
      "Diapers & Wipes < Counter({'Babies': 543, 'Baby & Child': 98})\n",
      "Digestion < Counter({'Personal Care': 1146})\n",
      "Dish Detergents < Counter({'Household': 391})\n",
      "Dog Food & Care < Counter({'Pets': 1540})\n",
      "Doughs, Gelatins & Bake Mixes < Counter({'Pantry': 831})\n",
      "Dry Pasta < Counter({'Dry Goods & Pasta': 757})\n",
      "Eau de Vie < Counter({'Brandy & Cognac': 3})\n",
      "Eggs < Counter({'Dairy & Eggs': 179})\n",
      "Energy & Granola Bars < Counter({'Snacks': 1708})\n",
      "Energy & Sports Drinks < Counter({'Beverages': 984})\n",
      "Entrees < Counter({'Holiday Favorites': 5})\n",
      "Essentials < Counter({'Allergy & Cold Essentials': 34})\n",
      "Euro Pale Lager < Counter({'Lager Beer': 42})\n",
      "Extra Anejo < Counter({'Tequila': 6})\n",
      "Eye & Ear Care < Counter({'Personal Care': 660})\n",
      "Facial Care < Counter({'Personal Care': 1659})\n",
      "Family Planning < Counter({'Personal Care': 259})\n",
      "Feminine Care < Counter({'Personal Care': 1119})\n",
      "First Aid < Counter({'Personal Care': 1185})\n",
      "Flavored Brandy < Counter({'Brandy & Cognac': 21})\n",
      "Flavored Malt Beverages < Counter({'Coolers & Malt Beverages': 60})\n",
      "Flavored Rum < Counter({'Rum': 66})\n",
      "Flavored Sparkling Wine < Counter({'Champagne & Sparkling Wine': 34})\n",
      "Flavored Tequila < Counter({'Tequila': 15})\n",
      "Flavored Vodka < Counter({'Vodka': 261})\n",
      "Food Storage < Counter({'Household': 629})\n",
      "Foot Care < Counter({'Personal Care': 139})\n",
      "Fresh Dips & Tapenades < Counter({'Deli': 416})\n",
      "Fresh Fruits < Counter({'Produce': 723})\n",
      "Fresh Herbs < Counter({'Produce': 145})\n",
      "Fresh Pasta < Counter({'Dry Goods & Pasta': 183})\n",
      "Fresh Vegetables < Counter({'Produce': 1173})\n",
      "Frozen < Counter({'Grocery': 27})\n",
      "Frozen Appetizers & Sides < Counter({'Frozen': 685})\n",
      "Frozen Breads & Doughs < Counter({'Frozen': 113})\n",
      "Frozen Breakfast < Counter({'Frozen': 478})\n",
      "Frozen Dessert < Counter({'Frozen': 299})\n",
      "Frozen Juice < Counter({'Frozen': 162})\n",
      "Frozen Meals < Counter({'Frozen': 1953})\n",
      "Frozen Meat & Seafood < Counter({'Frozen': 480})\n",
      "Frozen Pizza < Counter({'Frozen': 593})\n",
      "Frozen Produce < Counter({'Frozen': 707})\n",
      "Frozen Vegan & Vegetarian < Counter({'Frozen': 378})\n",
      "Fruit < Counter({'Liqueurs/Cordials/Schnapps': 63})\n",
      "Fruit & Vegetable Snacks < Counter({'Snacks': 464})\n",
      "Fruit Beer < Counter({'Specialty Style Beer': 37})\n",
      "Fruit Blends < Counter({'Fruit Wine': 35, 'Liqueurs/Cordials/Schnapps': 27})\n",
      "Fruit-Based Dessert Wine < Counter({'Dessert & Fortified Wine': 8})\n",
      "Gamay < Counter({'Red Wine': 22})\n",
      "Garden < Counter({'Household': 57})\n",
      "Garganega < Counter({'White Wine': 6})\n",
      "Gewurztraminer < Counter({'White Wine': 16})\n",
      "Gift Baskets < Counter({'Gift Baskets & Sets': 3})\n",
      "Gift Sets < Counter({'Variety Packs': 9, 'Gift Baskets & Sets': 5})\n",
      "Gold < Counter({'Tequila': 12})\n",
      "Gold Rum < Counter({'Rum': 23})\n",
      "Grains, Rice & Dried Goods < Counter({'Dry Goods & Pasta': 609})\n",
      "Granola < Counter({'Breakfast': 346})\n",
      "Grappa < Counter({'Brandy & Cognac': 7})\n",
      "Grenache < Counter({'Red Wine': 32})\n",
      "Gruner Veltliner < Counter({'White Wine': 9})\n",
      "Hair Care < Counter({'Personal Care': 4369})\n",
      "Hand Care < Counter({'Personal Care': 243})\n",
      "Herbal & Spice < Counter({'Liqueurs/Cordials/Schnapps': 111})\n",
      "Herbed/Spiced Beer < Counter({'Specialty Style Beer': 21})\n",
      "Holiday Pantry < Counter({'Holiday Favorites': 22})\n",
      "Honeys, Syrups & Nectars < Counter({'Pantry': 465})\n",
      "Hot Cereal & Pancake Mixes < Counter({'Breakfast': 557})\n",
      "Hot Dogs, Bacon & Sausage < Counter({'Meat & Seafood': 910})\n",
      "IPA (India Pale Ale) < Counter({'Ale Beer': 389})\n",
      "Ice Cream & Ice < Counter({'Frozen': 2507})\n",
      "Ice Cream Toppings < Counter({'Snacks': 191})\n",
      "Ice Wine < Counter({'Dessert & Fortified Wine': 8})\n",
      "Indian Foods < Counter({'International': 148})\n",
      "Instant Foods < Counter({'Dry Goods & Pasta': 1031, 'Grocery': 11})\n",
      "Japanese Rice Lager < Counter({'Lager Beer': 5})\n",
      "Juice < Counter({'Mixers, Water & Soda': 10})\n",
      "Juice & Nectars < Counter({'Beverages': 2224})\n",
      "Kitchen Supplies < Counter({'Household': 1163})\n",
      "Kosher Foods < Counter({'International': 179})\n",
      "Latino Foods < Counter({'International': 480})\n",
      "Laundry < Counter({'Household': 1051})\n",
      "Lemonades & Citrus Drinks < Counter({'Ready to Drink': 12})\n",
      "Light Lager < Counter({'Lager Beer': 62})\n",
      "Lunch Meat < Counter({'Deli': 827})\n",
      "Madeira < Counter({'Dessert & Fortified Wine': 2})\n",
      "Malbec < Counter({'Red Wine': 85})\n",
      "Manhattans & Bourbon Drinks < Counter({'Ready to Drink': 1})\n",
      "Margaritas < Counter({'Ready to Drink': 23})\n",
      "Marinades & Meat Preparation < Counter({'Pantry': 891})\n",
      "Marsala < Counter({'Dessert & Fortified Wine': 3})\n",
      "Mead < Counter({'Dessert & Fortified Wine': 27})\n",
      "Meat < Counter({'Meat & Seafood': 198})\n",
      "Meat Counter < Counter({'Meat & Seafood': 397})\n",
      "Medical Supplies/Aid < Counter({'Personal Care': 46})\n",
      "Merlot < Counter({'Red Wine': 187})\n",
      "Milk < Counter({'Dairy & Eggs': 708})\n",
      "Mint & Gum < Counter({'Snacks': 501})\n",
      "Mojito < Counter({'Ready to Drink': 2})\n",
      "Montepulciano < Counter({'Red Wine': 16})\n",
      "More Household < Counter({'Household': 3950})\n",
      "More International Foods < Counter({'International': 21})\n",
      "Mourvedre/Monastrell < Counter({'Red Wine': 7})\n",
      "Muscat/Moscato < Counter({'White Wine': 41, 'Champagne & Sparkling Wine': 30})\n",
      "Muscat/Muscadine < Counter({'Dessert & Fortified Wine': 10})\n",
      "Muscles, Joints & Pain Relief < Counter({'Personal Care': 991})\n",
      "Nebbiolo < Counter({'Red Wine': 44})\n",
      "Newly Added < Counter({'Deli': 5})\n",
      "Nuts < Counter({'Grocery': 7, 'Food': 6})\n",
      "Nuts & Amaretto < Counter({'Liqueurs/Cordials/Schnapps': 37})\n",
      "Nuts, Seeds & Dried Fruit < Counter({'Snacks': 1411})\n",
      "Oils & Tinctures < Counter({'Personal Care': 52})\n",
      "Oils & Vinegars < Counter({'Pantry': 948, 'Food': 2})\n",
      "Oral Hygiene < Counter({'Personal Care': 1978})\n",
      "Other < Counter({'Bourbon': 101, 'American Whiskey': 87, 'Ready to Drink': 13, 'Liqueurs/Cordials/Schnapps': 12, 'Vodka': 9, 'Rum': 7, 'Brandy & Cognac': 2, 'Tequila': 2})\n",
      "Other Bulk < Counter({'Bulk': 46})\n",
      "Other Creams & Cheeses < Counter({'Dairy & Eggs': 417})\n",
      "Other Dark Lager < Counter({'Lager Beer': 26})\n",
      "Other Dessert & Fortified Wines < Counter({'Dessert & Fortified Wine': 11})\n",
      "Other Fruit Cider < Counter({'Cider': 81})\n",
      "Other Glassware < Counter({'Glassware & Accessories': 14})\n",
      "Other Pale Lager < Counter({'Lager Beer': 25})\n",
      "Other Red Wines < Counter({'Red Wine': 78})\n",
      "Other White Wines < Counter({'White Wine': 56})\n",
      "Packaged Cheese < Counter({'Dairy & Eggs': 1605})\n",
      "Packaged Meat < Counter({'Meat & Seafood': 628})\n",
      "Packaged Poultry < Counter({'Meat & Seafood': 304})\n",
      "Packaged Seafood < Counter({'Meat & Seafood': 219})\n",
      "Packaged Vegetables & Fruits < Counter({'Produce': 991})\n",
      "Pain & Fever < Counter({'Allergy & Cold Essentials': 31})\n",
      "Pale Ale < Counter({'Ale Beer': 115})\n",
      "Paper Goods < Counter({'Household': 601})\n",
      "Pasta & Pasta Sauce < Counter({'Grocery': 12})\n",
      "Pasta Sauce < Counter({'Dry Goods & Pasta': 713})\n",
      "Perry (Pear Cider) < Counter({'Cider': 22})\n",
      "Petite Sirah < Counter({'Red Wine': 17})\n",
      "Pickled Goods & Olives < Counter({'Pantry': 784})\n",
      "Pinot Blanc < Counter({'White Wine': 4})\n",
      "Pinot Grigio/Pinot Gris < Counter({'White Wine': 76})\n",
      "Pinot Noir < Counter({'Red Wine': 312})\n",
      "Pisco < Counter({'Brandy & Cognac': 2})\n",
      "Plates, Bowls, Cups & Flatware < Counter({'Household': 500})\n",
      "Plum Wine < Counter({'Sake & Plum Wine': 6})\n",
      "Popcorn & Jerky < Counter({'Snacks': 772})\n",
      "Port < Counter({'Dessert & Fortified Wine': 72})\n",
      "Porter < Counter({'Ale Beer': 38})\n",
      "Poultry < Counter({'Meat & Seafood': 46})\n",
      "Poultry Counter < Counter({'Meat & Seafood': 162})\n",
      "Prepared Meals < Counter({'Deli': 1273})\n",
      "Prepared Soups & Salads < Counter({'Deli': 439})\n",
      "Preserved Dips & Spreads < Counter({'Pantry': 632})\n",
      "Produce < Counter({'Holiday Favorites': 32})\n",
      "Prosecco < Counter({'Champagne & Sparkling Wine': 41})\n",
      "Protein & Meal Replacements < Counter({'Personal Care': 728})\n",
      "Red Blend < Counter({'Red Wine': 363})\n",
      "Red Blend Dessert Wine < Counter({'Dessert & Fortified Wine': 7})\n",
      "Red Wines < Counter({'Alcohol': 224})\n",
      "Refrigerated < Counter({'Beverages': 1189})\n",
      "Refrigerated Pudding & Desserts < Counter({'Dairy & Eggs': 186})\n",
      "Reposado < Counter({'Tequila': 72})\n",
      "Rhone Blend < Counter({'Red Wine': 96, 'White Wine': 11})\n",
      "Riesling < Counter({'White Wine': 91, 'Dessert & Fortified Wine': 13})\n",
      "Rosés < Counter({'Alcohol': 26})\n",
      "Rye Whiskey < Counter({'American Whiskey': 76})\n",
      "Sake < Counter({'Sake & Plum Wine': 42})\n",
      "Salad Dressing & Toppings < Counter({'Pantry': 1182})\n",
      "Sangiovese < Counter({'Red Wine': 162})\n",
      "Sangria < Counter({'Fruit Wine': 28})\n",
      "Sauvignon Blanc < Counter({'White Wine': 89})\n",
      "Seafood < Counter({'Meat & Seafood': 66})\n",
      "Seafood Counter < Counter({'Meat & Seafood': 162})\n",
      "Seasonal < Counter({'Seasonal/Special Release Beer': 138})\n",
      "Seltzer Water < Counter({'Mixers, Water & Soda': 4})\n",
      "Shandy/Radler < Counter({'Specialty Style Beer': 14})\n",
      "Shave Needs < Counter({'Personal Care': 774})\n",
      "Sherry < Counter({'Dessert & Fortified Wine': 22})\n",
      "Shots < Counter({'Ready to Drink': 9})\n",
      "Sides & Salads < Counter({'Holiday Favorites': 3})\n",
      "Silver Rum < Counter({'Rum': 43})\n",
      "Single Malt < Counter({'Scotch': 103})\n",
      "Skin Care < Counter({'Personal Care': 250})\n",
      "Small Animal Care < Counter({'Pets': 153})\n",
      "Small Batch Bourbon < Counter({'Bourbon': 140})\n",
      "Soap < Counter({'Personal Care': 299})\n",
      "Soda < Counter({'Mixers, Water & Soda': 5})\n",
      "Soft Drinks < Counter({'Beverages': 1567})\n",
      "Soup, Broth & Bouillon < Counter({'Canned Goods': 1594})\n",
      "Soy & Lactose-Free < Counter({'Dairy & Eggs': 560})\n",
      "Sparkling Cider < Counter({'Mixers, Water & Soda': 9})\n",
      "Sparkling Red Wine < Counter({'Champagne & Sparkling Wine': 45})\n",
      "Sparkling Wine < Counter({'Champagne & Sparkling Wine': 165})\n",
      "Special Release < Counter({'Seasonal/Special Release Beer': 80})\n",
      "Specialty Beer < Counter({'Specialty Style Beer': 57})\n",
      "Specialty Cheeses < Counter({'Deli': 957})\n",
      "Specialty Wines & Champagnes < Counter({'Alcohol': 45})\n",
      "Spiced Rum < Counter({'Rum': 52})\n",
      "Spices & Seasoning < Counter({'Dry Goods & Pasta': 7})\n",
      "Spices & Seasonings < Counter({'Pantry': 1977})\n",
      "Spirits < Counter({'Alcohol': 5})\n",
      "Spirits Glassware < Counter({'Glassware & Accessories': 14})\n",
      "Sports Drinks < Counter({'Mixers, Water & Soda': 1})\n",
      "Spreads < Counter({'Pantry': 974})\n",
      "Stout < Counter({'Ale Beer': 85})\n",
      "Stress & Sleep Aids < Counter({'Personal Care': 259})\n",
      "Strong Ale & Barley Wine < Counter({'Ale Beer': 54})\n",
      "Sugar & Sugar Substitutes < Counter({'Grocery': 1})\n",
      "Sun Care < Counter({'Personal Care': 12})\n",
      "Syrah/Shiraz < Counter({'Red Wine': 148})\n",
      "Syrups < Counter({'Mixers, Water & Soda': 2})\n",
      "Tea < Counter({'Beverages': 1877, 'Ready to Drink': 5})\n",
      "Tempranillo < Counter({'Red Wine': 93})\n",
      "Tennessee Whiskey < Counter({'American Whiskey': 31})\n",
      "Tofu & Meat Alternatives < Counter({'Deli': 103, 'Dairy & Eggs': 72, 'Produce': 2})\n",
      "Tonic Water < Counter({'Mixers, Water & Soda': 12})\n",
      "Torrontes < Counter({'White Wine': 5})\n",
      "Tortillas & Flat Bread < Counter({'Bakery': 398})\n",
      "Trail Mix & Snack Mix < Counter({'Snacks': 254})\n",
      "Trash Bags & Liners < Counter({'Household': 175})\n",
      "Trebbiano/Ugni Blanc < Counter({'White Wine': 4})\n",
      "Unique Cocktails < Counter({'Ready to Drink': 13})\n",
      "Unique Flavors < Counter({'Liqueurs/Cordials/Schnapps': 13})\n",
      "Variety Packs < Counter({'Variety Packs': 24, 'Vodka': 1})\n",
      "Vermouth < Counter({'Dessert & Fortified Wine': 35})\n",
      "Viognier < Counter({'White Wine': 15})\n",
      "Vitamins & Supplements < Counter({'Personal Care': 4247})\n",
      "Vodka < Counter({'Vodka': 325})\n",
      "Water < Counter({'Mixers, Water & Soda': 40})\n",
      "Water, Seltzer & Sparkling Water < Counter({'Beverages': 1212})\n",
      "Wheat Ale < Counter({'Ale Beer': 101})\n",
      "Whiskey < Counter({'American Whiskey': 226})\n",
      "White Blend < Counter({'White Wine': 66})\n",
      "White Blend Dessert Wine < Counter({'Dessert & Fortified Wine': 6})\n",
      "White Wines < Counter({'Alcohol': 63})\n",
      "Whole & Ground Seeds < Counter({'Dry Goods & Pasta': 3})\n",
      "Wine Accessories < Counter({'Glassware & Accessories': 33})\n",
      "Wine Coolers < Counter({'Coolers & Malt Beverages': 7})\n",
      "Wine Glassware < Counter({'Glassware & Accessories': 36})\n",
      "Wine Storage & Transport < Counter({'Glassware & Accessories': 5})\n",
      "Yogurt < Counter({'Dairy & Eggs': 1816})\n",
      "Zinfandel < Counter({'Red Wine': 93})\n"
     ]
    }
   ],
   "source": [
    "for myKey in tax_dict.keys():\n",
    "    print(myKey,'<', Counter(list(tax_dict[myKey])))   \n",
    "\n",
    "    ##Here we get the key '<' Subcategory: count"
   ]
  },
  {
   "cell_type": "markdown",
   "metadata": {},
   "source": [
    "### 6. Generate a new file where mrp is normalized."
   ]
  },
  {
   "cell_type": "code",
   "execution_count": null,
   "metadata": {},
   "outputs": [],
   "source": [
    "%%time\n",
    "a\n",
    "for i in range(len(a)): # Here we are taking today's data\n",
    "    if a['mrp'][i]==0 or a['mrp'][i]=='nan' :\n",
    "        a['mrp'][i]='NA'\n",
    "\n",
    "# isinstance(value,float)=True means values in float.\n",
    "# If mrp value is 'na' or non-float or 0 then, it has been set to 'NA'"
   ]
  },
  {
   "cell_type": "markdown",
   "metadata": {},
   "source": [
    "##### The above code was taking awefully long time to execute. But the code is fine and working."
   ]
  },
  {
   "cell_type": "code",
   "execution_count": 133,
   "metadata": {},
   "outputs": [],
   "source": [
    "with open('a11.json', 'w') as f:\n",
    "    f.write(a.to_json(orient='records', lines=True))"
   ]
  },
  {
   "cell_type": "markdown",
   "metadata": {},
   "source": [
    "## Thank YOU"
   ]
  },
  {
   "cell_type": "markdown",
   "metadata": {},
   "source": [
    "This assignment was really fun. You explicitly mentioned in 6th point to have fun. Yes I had fun, learnt a a lot doing this assignment.\n",
    "\n",
    "My understanding in ML is good, can't wait to share my knowledge with you people.\n",
    "Thank You."
   ]
  }
 ],
 "metadata": {
  "kernelspec": {
   "display_name": "Python 3",
   "language": "python",
   "name": "python3"
  },
  "language_info": {
   "codemirror_mode": {
    "name": "ipython",
    "version": 3
   },
   "file_extension": ".py",
   "mimetype": "text/x-python",
   "name": "python",
   "nbconvert_exporter": "python",
   "pygments_lexer": "ipython3",
   "version": "3.6.5"
  }
 },
 "nbformat": 4,
 "nbformat_minor": 2
}
